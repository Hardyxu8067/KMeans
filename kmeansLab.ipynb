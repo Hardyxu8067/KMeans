{
 "cells": [
  {
   "cell_type": "markdown",
   "metadata": {},
   "source": [
    "# 2D Numpy Arrays"
   ]
  },
  {
   "cell_type": "code",
   "execution_count": 13,
   "metadata": {},
   "outputs": [
    {
     "data": {
      "text/plain": [
       "array([[1., 1.],\n",
       "       [1., 1.],\n",
       "       [1., 1.],\n",
       "       [7., 8.]])"
      ]
     },
     "execution_count": 13,
     "metadata": {},
     "output_type": "execute_result"
    }
   ],
   "source": [
    "import numpy as np\n",
    "a = np.ones((3,2))\n",
    "b = np.array([7,8])\n",
    "a = np.append(a,[b], axis = 0)\n",
    "a"
   ]
  },
  {
   "cell_type": "code",
   "execution_count": 31,
   "metadata": {},
   "outputs": [
    {
     "data": {
      "text/plain": [
       "array([[1., 1., 1.],\n",
       "       [1., 1., 1.],\n",
       "       [7., 8., 8.]])"
      ]
     },
     "execution_count": 31,
     "metadata": {},
     "output_type": "execute_result"
    }
   ],
   "source": [
    "a = np.ones((2,3))\n",
    "b = np.array([7,8,8])\n",
    "a = np.vstack((a,b))\n",
    "a"
   ]
  },
  {
   "cell_type": "code",
   "execution_count": 41,
   "metadata": {},
   "outputs": [
    {
     "name": "stdout",
     "output_type": "stream",
     "text": [
      "[[7]\n",
      " [8]\n",
      " [9]]\n"
     ]
    },
    {
     "data": {
      "text/plain": [
       "array([[1., 1., 7.],\n",
       "       [1., 1., 8.],\n",
       "       [1., 1., 9.]])"
      ]
     },
     "execution_count": 41,
     "metadata": {},
     "output_type": "execute_result"
    }
   ],
   "source": [
    "a = np.ones((3,2))\n",
    "b = np.array([[7],[8],[9]])\n",
    "print(b)\n",
    "a = np.hstack((a,b))\n",
    "#c = np.ones((3,1))\n",
    "#a = np.hstack((a,c))\n",
    "a"
   ]
  },
  {
   "cell_type": "markdown",
   "metadata": {},
   "source": [
    "# Here we look at 2 implementations of KMeans\n",
    "The first uses Pandas DataFrame\n",
    "The second uses Numpy Arrays"
   ]
  },
  {
   "cell_type": "code",
   "execution_count": null,
   "metadata": {},
   "outputs": [],
   "source": [
    "%matplotlib inline\n",
    "import matplotlib.pyplot as plt\n",
    "import seaborn as sns; sns.set()  # for plot styling\n",
    "import numpy as np\n",
    "from sklearn.datasets import make_blobs\n",
    "X, y_true = make_blobs(n_samples=300, centers=2,\n",
    "                       cluster_std=0.60, random_state=0)\n",
    "plt.scatter(X[:, 0], X[:, 1], s=50);"
   ]
  },
  {
   "cell_type": "code",
   "execution_count": 19,
   "metadata": {},
   "outputs": [
    {
     "data": {
      "text/plain": [
       "<bound method NDFrame.head of             X         Y\n",
       "0    2.406157  4.870475\n",
       "1    2.580767  0.828599\n",
       "2    1.062696  5.176351\n",
       "3    2.548219  0.900839\n",
       "4    1.390161  5.084895\n",
       "..        ...       ...\n",
       "295  2.614377  1.101643\n",
       "296  0.584825  4.069215\n",
       "297  1.187347  1.377842\n",
       "298  1.623505  0.409868\n",
       "299  1.288909  3.958315\n",
       "\n",
       "[300 rows x 2 columns]>"
      ]
     },
     "execution_count": 19,
     "metadata": {},
     "output_type": "execute_result"
    }
   ],
   "source": [
    "# https://bit.ly/3IAI2hJ \n",
    "\n",
    "import pandas as pd\n",
    "import numpy as np\n",
    "import random as rd\n",
    "import matplotlib.pyplot as plt\n",
    "\n",
    "column_names = [\"X\",\"Y\"]\n",
    "df = pd.DataFrame(data=X, columns=column_names)\n",
    "\n",
    "\n",
    "def get_random_centroids(data, k = 3):\n",
    "    \n",
    "    #return random samples from the dataset\n",
    "    cent = (data.sample(n = k))\n",
    "    return cent\n",
    "\n",
    "get_random_centroids(df, 2)\n",
    "df.head"
   ]
  },
  {
   "cell_type": "code",
   "execution_count": 12,
   "metadata": {},
   "outputs": [],
   "source": [
    "def k_means_fit(X,centroids, n = 5):\n",
    "    #get a copy of the original data\n",
    "    X_data = X\n",
    "    print(X.shape)\n",
    "    \n",
    "    diff = 1\n",
    "    j=0\n",
    "\n",
    "    while(diff!=0):\n",
    "\n",
    "        #creating a copy of the original dataframe\n",
    "        i=1\n",
    "\n",
    "        #iterate over each centroid point \n",
    "        for index1,row_c in centroids.iterrows():\n",
    "            ED=[]\n",
    "\n",
    "            #iterate over each data point\n",
    "            for index2,row_d in X_data.iterrows():\n",
    "\n",
    "                #calculate distance between current point and centroid\n",
    "                d1=(row_c[\"X\"]-row_d[\"X\"])**2\n",
    "                d2=(row_c[\"Y\"]-row_d[\"Y\"])**2\n",
    "                d=np.sqrt(d1+d2)\n",
    "\n",
    "                #append distance in a list 'ED'\n",
    "                ED.append(d)\n",
    "\n",
    "            #append distace for a centroid in original data frame\n",
    "            X[i]=ED\n",
    "            i=i+1\n",
    "\n",
    "        C=[]\n",
    "        for index,row in X.iterrows():\n",
    "\n",
    "            #get distance from centroid of current data point\n",
    "            min_dist=row[1]\n",
    "            pos=1\n",
    "\n",
    "            #loop to locate the closest centroid to current point\n",
    "            for i in range(n):\n",
    "\n",
    "                #if current distance is greater than that of other centroids\n",
    "                if row[i+1] < min_dist:\n",
    "\n",
    "                    #the smaller distanc becomes the minimum distance \n",
    "                    min_dist = row[i+1]\n",
    "                    pos=i+1\n",
    "            C.append(pos)\n",
    "\n",
    "        #assigning the closest cluster to each data point\n",
    "        X[\"Cluster\"]=C\n",
    "\n",
    "        #grouping each cluster by their mean value to create new centroids\n",
    "        centroids_new = X.groupby([\"Cluster\"]).mean()[[\"X\",\"Y\"]]\n",
    "        if j == 0:\n",
    "            diff=1\n",
    "            j=j+1\n",
    "\n",
    "        else:\n",
    "            #check if there is a difference between old and new centroids\n",
    "            diff = (centroids_new['X'] - centroids['X']).sum() + (centroids_new['Y'] - centroids['Y']).sum()\n",
    "            print(diff.sum())\n",
    "\n",
    "        centroids = X.groupby([\"Cluster\"]).mean()[[\"X\",\"Y\"]]\n",
    "        \n",
    "    return X, centroids"
   ]
  },
  {
   "cell_type": "code",
   "execution_count": 13,
   "metadata": {},
   "outputs": [
    {
     "name": "stdout",
     "output_type": "stream",
     "text": [
      "            X         Y\n",
      "200  1.413724  4.381177\n",
      "226  2.963264  1.229543\n",
      "213  0.736601  4.525821\n",
      "29   0.192354  5.298666\n",
      "(300, 2)\n",
      "-0.030942596788421428\n",
      "-0.04065796096620905\n",
      "-0.07543330807492032\n",
      "-0.024629810551182407\n",
      "-0.021488049097389827\n",
      "-0.018859577748342904\n",
      "0.012244837367356098\n",
      "0.0\n"
     ]
    },
    {
     "data": {
      "text/plain": [
       "Text(0, 0.5, 'Y')"
      ]
     },
     "execution_count": 13,
     "metadata": {},
     "output_type": "execute_result"
    },
    {
     "data": {
      "image/png": "[encoded data removed]",
      "text/plain": [
       "<Figure size 432x288 with 1 Axes>"
      ]
     },
     "metadata": {},
     "output_type": "display_data"
    }
   ],
   "source": [
    "# This is the main Driver for calculating KMeans\n",
    "centroids = get_random_centroids(df, k = 4)\n",
    "print(centroids)\n",
    "\n",
    "clustered, cent = k_means_fit(df,centroids, n= 4)\n",
    "#setting color values for our \n",
    "color=['brown','blue','green','cyan']\n",
    "\n",
    "#plot data\n",
    "for k in range(len(color)):\n",
    "    cluster=clustered[clustered[\"Cluster\"]==k+1]\n",
    "    plt.scatter(cluster[\"X\"],cluster[\"Y\"],c=color[k])\n",
    "    \n",
    "#plot centroids    \n",
    "plt.scatter(cent[\"X\"],cent[\"Y\"],c='red')\n",
    "plt.xlabel('X')\n",
    "plt.ylabel('Y')"
   ]
  },
  {
   "cell_type": "markdown",
   "metadata": {},
   "source": [
    "# KMeans Using Numpy Arrays"
   ]
  },
  {
   "cell_type": "code",
   "execution_count": 2,
   "metadata": {},
   "outputs": [
    {
     "name": "stdout",
     "output_type": "stream",
     "text": [
      "[1.25566754 3.38204112]\n",
      "[-1.45672617  7.48669893]\n",
      "[0.27239604 5.46996004]\n",
      "[-1.73163168  7.16447286]\n",
      "targets AAA: [[ 1.25566754  3.38204112]\n",
      " [-1.45672617  7.48669893]\n",
      " [ 0.27239604  5.46996004]\n",
      " [-1.73163168  7.16447286]]\n",
      "targets: [[ 0.63223041  2.21223868]\n",
      " [ 0.19328008  3.59107052]\n",
      " [ 0.11906763  3.75945426]\n",
      " [-0.00632763  3.96782089]]\n",
      "targets: [[ 1.48884828  1.06700268]\n",
      " [ 0.82843071  1.82526836]\n",
      " [ 0.8453954   2.03255294]\n",
      " [-0.00632763  3.96782089]]\n",
      "targets: [[ 2.01151465  0.81936391]\n",
      " [ 1.78137824  0.89237431]\n",
      " [ 1.71242319  1.01351556]\n",
      " [-0.00632763  3.96782089]]\n",
      "targets: [[ 2.43953315  0.73517585]\n",
      " [ 2.1597536   0.67694991]\n",
      " [ 1.94385045  0.87306002]\n",
      " [-0.00632763  3.96782089]]\n",
      "targets: [[ 2.71018185  0.94899521]\n",
      " [ 2.41493689  0.60850307]\n",
      " [ 1.98258281  0.86771314]\n",
      " [-0.00632763  3.96782089]]\n",
      "targets: [[ 2.77551355  1.17706766]\n",
      " [ 2.52811623  0.68369212]\n",
      " [ 1.98258281  0.86771314]\n",
      " [-0.00632763  3.96782089]]\n",
      "targets: [[ 2.72597188  1.41962941]\n",
      " [ 2.64336202  0.91391934]\n",
      " [ 1.98726097  0.90144281]\n",
      " [-0.00632763  3.96782089]]\n",
      "targets: [[ 2.59070384  1.68429668]\n",
      " [ 2.6226602   1.02242991]\n",
      " [ 1.98726097  0.90144281]\n",
      " [-0.00632763  3.96782089]]\n",
      "targets: [[ 2.25133723  2.05199963]\n",
      " [ 2.52899746  1.29203557]\n",
      " [ 1.98880512  0.93512709]\n",
      " [-0.00632763  3.96782089]]\n",
      "targets: [[ 1.68823502  2.42180409]\n",
      " [ 2.36215568  1.62860887]\n",
      " [ 1.98458852  0.96881638]\n",
      " [-0.00632763  3.96782089]]\n"
     ]
    },
    {
     "data": {
      "text/plain": [
       "Text(0, 0.5, 'Y')"
      ]
     },
     "execution_count": 2,
     "metadata": {},
     "output_type": "execute_result"
    },
    {
     "data": {
      "image/png": "[encoded data removed]",
      "text/plain": [
       "<Figure size 432x288 with 1 Axes>"
      ]
     },
     "metadata": {},
     "output_type": "display_data"
    }
   ],
   "source": [
    "# Create Clusters of points\n",
    "from sklearn.datasets import make_blobs\n",
    "import numpy as np\n",
    "import matplotlib.pyplot as plt\n",
    "import seaborn as sns\n",
    "\n",
    "sns.set()  # for plot styling\n",
    "X, y_true = make_blobs(n_samples=300, centers=4,\n",
    "                       cluster_std=0.60, random_state=0)\n",
    "plt.scatter(X[:, 0], X[:, 1], s=50)\n",
    "\n",
    "# This is another implementation using Numpy Arrays\n",
    "\n",
    "\n",
    "def createClusters(targets, points):\n",
    "    targetID = np.zeros((len(points), 1))\n",
    "\n",
    "    # assign point to target\n",
    "    for index, point in enumerate(points):\n",
    "        targetID[index] = getClosest(targets, point)\n",
    "    return targetID  # this maps points to target\n",
    "\n",
    "# assign point to closest target\n",
    "\n",
    "\n",
    "def getClosest(targets, point):\n",
    "    closest = 0\n",
    "    dmin = np.infty\n",
    "    for i in range(len(targets)):\n",
    "        d = np.linalg.norm(targets[i] - point)\n",
    "        if d < dmin:\n",
    "            closest = i\n",
    "            dmin = d\n",
    "    return closest\n",
    "\n",
    "\n",
    "def getRandomPoint(X):\n",
    "    i = np.random.randint(0, len(X)-1)\n",
    "    return np.array(X[i])\n",
    "\n",
    "\n",
    "def updateTargets(X, targetID, targets):\n",
    "    newTargets = np.zeros((0, 2), float)\n",
    "    points = np.zeros((0, 2), float)\n",
    "    rowsTarget = targets.shape[0]\n",
    "    rowsX = X.shape[0]\n",
    "    for i in range(0, rowsTarget):\n",
    "        \n",
    "        for j in range(0, rowsX):\n",
    "            clusterID = int(targetID[j])\n",
    "            if clusterID == i:\n",
    "                point = X[j]\n",
    "                points = np.append(points, point)\n",
    "\n",
    "        k = int(np.ceil(len(points)/2))\n",
    "        points = points.reshape((k, 2))\n",
    "        newTargets = np.append(newTargets, points.mean(0))\n",
    "        \n",
    "    k = int(len(newTargets)/2)\n",
    "    return newTargets.reshape((k, 2))\n",
    "\n",
    "\n",
    "# get k random targets\n",
    "k = 4\n",
    "targets = np.zeros((k, 2))\n",
    "for i in range(k):\n",
    "    centroid = getRandomPoint(X)\n",
    "    targets[i] = np.array(centroid)\n",
    "\n",
    "print(f'Initial targets : {targets}')\n",
    "# loop until targets don't move\n",
    "for iter in range(10):\n",
    "    targetID = createClusters(targets, X)\n",
    "\n",
    "    plt.scatter(X[:, 0], X[:, 1], c=targetID, s=50, cmap='viridis')\n",
    "\n",
    "    # update the targets\n",
    "    targets = np.array(updateTargets(X, targetID, targets))\n",
    "\n",
    "    # plot centroids\n",
    "    print(f'targets: {targets}')\n",
    "    centx = targets[:, 0]\n",
    "    centy = targets[:, 1]\n",
    "    plt.scatter(centx, centy, c='orange')\n",
    "    plt.xlabel('X')\n",
    "    plt.ylabel('Y')\n",
    "\n",
    "centx = targets[:, 0]\n",
    "centy = targets[:, 1]\n",
    "plt.scatter(centx, centy, c='red')\n",
    "plt.xlabel('X')\n",
    "plt.ylabel('Y')"
   ]
  },
  {
   "cell_type": "code",
   "execution_count": null,
   "metadata": {},
   "outputs": [],
   "source": []
  }
 ],
 "metadata": {
  "interpreter": {
   "hash": "949777d72b0d2535278d3dc13498b2535136f6dfe0678499012e853ee9abcab1"
  },
  "kernelspec": {
   "display_name": "Python 3.9.0 64-bit",
   "language": "python",
   "name": "python3"
  },
  "language_info": {
   "codemirror_mode": {
    "name": "ipython",
    "version": 3
   },
   "file_extension": ".py",
   "mimetype": "text/x-python",
   "name": "python",
   "nbconvert_exporter": "python",
   "pygments_lexer": "ipython3",
   "version": "3.9.0"
  },
  "orig_nbformat": 4
 },
 "nbformat": 4,
 "nbformat_minor": 2
}
